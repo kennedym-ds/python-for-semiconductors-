{
 "cells": [
  {
   "cell_type": "markdown",
   "id": "cc5c6d3d",
   "metadata": {},
   "source": [
    "# 1.1: Python for Engineers with Wafer Map Data Examples\n",
    "\n",
    "## 🎯 Learning Objectives\n",
    "\n",
    "By the end of this notebook, you will be able to:\n",
    "- Master Python fundamentals in the context of semiconductor manufacturing\n",
    "- Work with wafer map data using pandas and numpy\n",
    "- Create professional visualizations for semiconductor data\n",
    "- Build reusable functions for wafer analysis\n",
    "\n",
    "## 📊 Semiconductor Context\n",
    "\n",
    "In semiconductor manufacturing, we work with various types of data:\n",
    "- **Wafer Maps**: Visual representations of die locations and their pass/fail status\n",
    "- **Process Parameters**: Temperature, pressure, time, flow rates\n",
    "- **Metrology Data**: Critical dimensions, overlay, thickness measurements\n",
    "- **Yield Data**: Good die count, yield percentage, defect density\n",
    "\n",
    "This notebook focuses on wafer map analysis using Python."
   ]
  },
  {
   "cell_type": "markdown",
   "id": "acfebb16",
   "metadata": {},
   "source": [
    "## 🔧 Environment Setup"
   ]
  },
  {
   "cell_type": "code",
   "execution_count": null,
   "id": "becc0cb0",
   "metadata": {},
   "outputs": [],
   "source": [
    "# Import essential libraries for semiconductor data analysis\n",
    "import numpy as np\n",
    "import pandas as pd\n",
    "import matplotlib.pyplot as plt\n",
    "import seaborn as sns\n",
    "from pathlib import Path\n",
    "import warnings\n",
    "\n",
    "# Configure plotting\n",
    "plt.style.use('seaborn-v0_8')\n",
    "sns.set_palette(\"husl\")\n",
    "warnings.filterwarnings('ignore')\n",
    "\n",
    "# Set random seed for reproducibility\n",
    "np.random.seed(42)\n",
    "\n",
    "print(\"✅ Environment setup complete!\")\n",
    "print(f\"NumPy version: {np.__version__}\")\n",
    "print(f\"Pandas version: {pd.__version__}\")"
   ]
  },
  {
   "cell_type": "markdown",
   "id": "8f66018a",
   "metadata": {},
   "source": [
    "## 📈 Python Fundamentals for Engineers"
   ]
  },
  {
   "cell_type": "markdown",
   "id": "2f71f4cb",
   "metadata": {},
   "source": [
    "### Variables and Data Types"
   ]
  },
  {
   "cell_type": "code",
   "execution_count": null,
   "id": "69dfc464",
   "metadata": {},
   "outputs": [],
   "source": [
    "# Semiconductor process parameters (common data types)\n",
    "wafer_size = 300  # mm (integer)\n",
    "temperature = 850.5  # Celsius (float)\n",
    "process_name = \"FEOL_Lithography\"  # (string)\n",
    "is_production = True  # (boolean)\n",
    "recipe_params = [1200, 850, 45.2, 0.95]  # (list)\n",
    "\n",
    "print(f\"Wafer Size: {wafer_size} mm (type: {type(wafer_size)})\")\n",
    "print(f\"Temperature: {temperature}°C (type: {type(temperature)})\")\n",
    "print(f\"Process: {process_name} (type: {type(process_name)})\")\n",
    "print(f\"Production: {is_production} (type: {type(is_production)})\")\n",
    "print(f\"Recipe Parameters: {recipe_params} (type: {type(recipe_params)})\")"
   ]
  },
  {
   "cell_type": "markdown",
   "id": "ab573e52",
   "metadata": {},
   "source": [
    "### Working with Lists and Dictionaries"
   ]
  },
  {
   "cell_type": "code",
   "execution_count": null,
   "id": "68a965f5",
   "metadata": {},
   "outputs": [],
   "source": [
    "# Process step data structure\n",
    "process_steps = [\n",
    "    \"Oxidation\",\n",
    "    \"Photolithography\", \n",
    "    \"Etching\",\n",
    "    \"Ion Implantation\",\n",
    "    \"Metallization\"\n",
    "]\n",
    "\n",
    "# Process parameters dictionary\n",
    "process_params = {\n",
    "    \"temperature\": 850.5,\n",
    "    \"pressure\": 0.75,\n",
    "    \"time\": 120,\n",
    "    \"gas_flow\": 250,\n",
    "    \"rf_power\": 1500\n",
    "}\n",
    "\n",
    "print(\"Process Steps:\")\n",
    "for i, step in enumerate(process_steps, 1):\n",
    "    print(f\"  {i}. {step}\")\n",
    "\n",
    "print(\"\\nProcess Parameters:\")\n",
    "for param, value in process_params.items():\n",
    "    print(f\"  {param}: {value}\")"
   ]
  },
  {
   "cell_type": "markdown",
   "id": "69aacf74",
   "metadata": {},
   "source": [
    "### Functions for Reusable Code"
   ]
  },
  {
   "cell_type": "code",
   "execution_count": null,
   "id": "582a7035",
   "metadata": {},
   "outputs": [],
   "source": [
    "def calculate_yield(good_die, total_die):\n",
    "    \"\"\"\n",
    "    Calculate wafer yield percentage.\n",
    "    \n",
    "    Parameters:\n",
    "    good_die (int): Number of good/passing die\n",
    "    total_die (int): Total number of die on wafer\n",
    "    \n",
    "    Returns:\n",
    "    float: Yield percentage\n",
    "    \"\"\"\n",
    "    if total_die == 0:\n",
    "        return 0.0\n",
    "    \n",
    "    yield_pct = (good_die / total_die) * 100\n",
    "    return round(yield_pct, 2)\n",
    "\n",
    "def calculate_defect_density(defects, area_cm2):\n",
    "    \"\"\"\n",
    "    Calculate defect density (defects per cm²).\n",
    "    \n",
    "    Parameters:\n",
    "    defects (int): Number of defects\n",
    "    area_cm2 (float): Area in cm²\n",
    "    \n",
    "    Returns:\n",
    "    float: Defect density\n",
    "    \"\"\"\n",
    "    if area_cm2 == 0:\n",
    "        return 0.0\n",
    "    \n",
    "    density = defects / area_cm2\n",
    "    return round(density, 4)\n",
    "\n",
    "# Test the functions\n",
    "wafer_yield = calculate_yield(850, 1000)\n",
    "defect_dens = calculate_defect_density(25, 707.1)  # 300mm wafer area\n",
    "\n",
    "print(f\"Wafer Yield: {wafer_yield}%\")\n",
    "print(f\"Defect Density: {defect_dens} defects/cm²\")"
   ]
  },
  {
   "cell_type": "markdown",
   "id": "3a97500d",
   "metadata": {},
   "source": [
    "## 🔢 NumPy for Numerical Analysis"
   ]
  },
  {
   "cell_type": "markdown",
   "id": "01e62b72",
   "metadata": {},
   "source": [
    "### Creating and Manipulating Arrays"
   ]
  },
  {
   "cell_type": "code",
   "execution_count": null,
   "id": "65c030f6",
   "metadata": {},
   "outputs": [],
   "source": [
    "# Create synthetic wafer map data (2D array)\n",
    "wafer_size = 50  # 50x50 die grid\n",
    "wafer_map = np.random.choice([0, 1], size=(wafer_size, wafer_size), p=[0.15, 0.85])\n",
    "# 0 = fail, 1 = pass, with 85% yield\n",
    "\n",
    "print(f\"Wafer map shape: {wafer_map.shape}\")\n",
    "print(f\"Total die: {wafer_map.size}\")\n",
    "print(f\"Good die: {np.sum(wafer_map)}\")\n",
    "print(f\"Failed die: {np.sum(wafer_map == 0)}\")\n",
    "print(f\"Yield: {np.mean(wafer_map) * 100:.2f}%\")"
   ]
  },
  {
   "cell_type": "code",
   "execution_count": null,
   "id": "2ec309e7",
   "metadata": {},
   "outputs": [],
   "source": [
    "# Process parameter arrays\n",
    "temperatures = np.array([848.2, 850.1, 851.8, 849.5, 850.7, 852.1])\n",
    "pressures = np.array([0.74, 0.75, 0.76, 0.75, 0.74, 0.77])\n",
    "yields = np.array([84.2, 86.1, 87.5, 85.8, 84.9, 88.2])\n",
    "\n",
    "# Statistical analysis\n",
    "print(\"Temperature Statistics:\")\n",
    "print(f\"  Mean: {np.mean(temperatures):.2f}°C\")\n",
    "print(f\"  Std Dev: {np.std(temperatures):.2f}°C\")\n",
    "print(f\"  Range: {np.ptp(temperatures):.2f}°C\")\n",
    "\n",
    "print(\"\\nYield Statistics:\")\n",
    "print(f\"  Mean: {np.mean(yields):.2f}%\")\n",
    "print(f\"  Median: {np.median(yields):.2f}%\")\n",
    "print(f\"  Min: {np.min(yields):.2f}%\")\n",
    "print(f\"  Max: {np.max(yields):.2f}%\")"
   ]
  },
  {
   "cell_type": "markdown",
   "id": "e85074f0",
   "metadata": {},
   "source": [
    "### Array Operations and Broadcasting"
   ]
  },
  {
   "cell_type": "code",
   "execution_count": null,
   "id": "3b6dbd3b",
   "metadata": {},
   "outputs": [],
   "source": [
    "# Calculate temperature deviation from target\n",
    "target_temp = 850.0\n",
    "temp_deviation = temperatures - target_temp\n",
    "\n",
    "# Calculate process capability (simplified)\n",
    "spec_limit = 2.0  # ±2°C tolerance\n",
    "within_spec = np.abs(temp_deviation) <= spec_limit\n",
    "\n",
    "print(\"Temperature Deviations from Target:\")\n",
    "for i, (temp, dev, spec) in enumerate(zip(temperatures, temp_deviation, within_spec)):\n",
    "    status = \"✅ PASS\" if spec else \"❌ FAIL\"\n",
    "    print(f\"  Run {i+1}: {temp:.1f}°C (Δ{dev:+.1f}°C) {status}\")\n",
    "\n",
    "print(f\"\\nProcess Capability: {np.sum(within_spec)}/{len(within_spec)} runs within spec\")"
   ]
  },
  {
   "cell_type": "markdown",
   "id": "337b02d6",
   "metadata": {},
   "source": [
    "## 📊 Pandas for Structured Data"
   ]
  },
  {
   "cell_type": "markdown",
   "id": "c6b164d9",
   "metadata": {},
   "source": [
    "### Creating and Working with DataFrames"
   ]
  },
  {
   "cell_type": "code",
   "execution_count": null,
   "id": "f18612bc",
   "metadata": {},
   "outputs": [],
   "source": [
    "# Create a semiconductor process data DataFrame\n",
    "process_data = pd.DataFrame({\n",
    "    'lot_id': ['LOT001', 'LOT002', 'LOT003', 'LOT004', 'LOT005', 'LOT006'],\n",
    "    'wafer_id': ['W01', 'W02', 'W03', 'W04', 'W05', 'W06'],\n",
    "    'temperature': temperatures,\n",
    "    'pressure': pressures,\n",
    "    'yield_pct': yields,\n",
    "    'process_step': ['LITHO', 'ETCH', 'LITHO', 'ETCH', 'LITHO', 'ETCH'],\n",
    "    'tool_id': ['T001', 'T002', 'T001', 'T002', 'T003', 'T002']\n",
    "})\n",
    "\n",
    "print(\"Process Data Summary:\")\n",
    "print(process_data)\n",
    "print(f\"\\nDataFrame shape: {process_data.shape}\")\n",
    "print(f\"Data types:\\n{process_data.dtypes}\")"
   ]
  },
  {
   "cell_type": "markdown",
   "id": "02ba7262",
   "metadata": {},
   "source": [
    "### Data Analysis and Filtering"
   ]
  },
  {
   "cell_type": "code",
   "execution_count": null,
   "id": "0b8b04d1",
   "metadata": {},
   "outputs": [],
   "source": [
    "# Basic statistics\n",
    "print(\"Numerical Data Statistics:\")\n",
    "print(process_data.describe())\n",
    "\n",
    "# Filtering data\n",
    "high_yield = process_data[process_data['yield_pct'] > 86]\n",
    "litho_steps = process_data[process_data['process_step'] == 'LITHO']\n",
    "\n",
    "print(f\"\\nHigh Yield Wafers (>86%):\")\n",
    "print(high_yield[['wafer_id', 'yield_pct', 'temperature']])\n",
    "\n",
    "print(f\"\\nLithography Steps:\")\n",
    "print(litho_steps[['wafer_id', 'yield_pct', 'tool_id']])"
   ]
  },
  {
   "cell_type": "markdown",
   "id": "c3f28e0d",
   "metadata": {},
   "source": [
    "### Grouping and Aggregation"
   ]
  },
  {
   "cell_type": "code",
   "execution_count": null,
   "id": "39e3ab10",
   "metadata": {},
   "outputs": [],
   "source": [
    "# Group by process step\n",
    "step_summary = process_data.groupby('process_step').agg({\n",
    "    'yield_pct': ['mean', 'std', 'min', 'max'],\n",
    "    'temperature': ['mean', 'std'],\n",
    "    'wafer_id': 'count'\n",
    "})\n",
    "\n",
    "print(\"Summary by Process Step:\")\n",
    "print(step_summary)\n",
    "\n",
    "# Group by tool\n",
    "tool_summary = process_data.groupby('tool_id')['yield_pct'].agg(['mean', 'count'])\n",
    "print(\"\\nSummary by Tool:\")\n",
    "print(tool_summary)"
   ]
  },
  {
   "cell_type": "markdown",
   "id": "01dc4323",
   "metadata": {},
   "source": [
    "## 📈 Data Visualization"
   ]
  },
  {
   "cell_type": "markdown",
   "id": "01337007",
   "metadata": {},
   "source": [
    "### Wafer Map Visualization"
   ]
  },
  {
   "cell_type": "code",
   "execution_count": null,
   "id": "a13623c4",
   "metadata": {},
   "outputs": [],
   "source": [
    "# Create wafer map plot\n",
    "fig, (ax1, ax2) = plt.subplots(1, 2, figsize=(12, 5))\n",
    "\n",
    "# Wafer map heatmap\n",
    "im1 = ax1.imshow(wafer_map, cmap='RdYlGn', aspect='equal')\n",
    "ax1.set_title('Wafer Map (Green=Pass, Red=Fail)', fontsize=12, fontweight='bold')\n",
    "ax1.set_xlabel('Die X Position')\n",
    "ax1.set_ylabel('Die Y Position')\n",
    "plt.colorbar(im1, ax=ax1, label='Pass/Fail')\n",
    "\n",
    "# Yield by radial position\n",
    "center = wafer_size // 2\n",
    "y, x = np.ogrid[:wafer_size, :wafer_size]\n",
    "radial_distance = np.sqrt((x - center)**2 + (y - center)**2)\n",
    "\n",
    "# Bin by radial zones\n",
    "max_radius = center\n",
    "zones = np.linspace(0, max_radius, 6)\n",
    "zone_yields = []\n",
    "\n",
    "for i in range(len(zones)-1):\n",
    "    mask = (radial_distance >= zones[i]) & (radial_distance < zones[i+1])\n",
    "    if np.any(mask):\n",
    "        zone_yield = np.mean(wafer_map[mask]) * 100\n",
    "        zone_yields.append(zone_yield)\n",
    "    else:\n",
    "        zone_yields.append(0)\n",
    "\n",
    "zone_centers = [(zones[i] + zones[i+1])/2 for i in range(len(zones)-1)]\n",
    "ax2.plot(zone_centers, zone_yields, 'bo-', linewidth=2, markersize=8)\n",
    "ax2.set_title('Yield vs Radial Position', fontsize=12, fontweight='bold')\n",
    "ax2.set_xlabel('Radial Distance from Center')\n",
    "ax2.set_ylabel('Yield (%)')\n",
    "ax2.grid(True, alpha=0.3)\n",
    "\n",
    "plt.tight_layout()\n",
    "plt.show()"
   ]
  },
  {
   "cell_type": "markdown",
   "id": "35f1550f",
   "metadata": {},
   "source": [
    "### Process Parameter Visualization"
   ]
  },
  {
   "cell_type": "code",
   "execution_count": null,
   "id": "068ef9b1",
   "metadata": {},
   "outputs": [],
   "source": [
    "# Create process control charts\n",
    "fig, ((ax1, ax2), (ax3, ax4)) = plt.subplots(2, 2, figsize=(15, 10))\n",
    "\n",
    "# Temperature control chart\n",
    "ax1.plot(range(1, len(temperatures)+1), temperatures, 'bo-', linewidth=2)\n",
    "ax1.axhline(y=850, color='g', linestyle='--', label='Target')\n",
    "ax1.axhline(y=852, color='r', linestyle='--', label='USL')\n",
    "ax1.axhline(y=848, color='r', linestyle='--', label='LSL')\n",
    "ax1.set_title('Temperature Control Chart', fontweight='bold')\n",
    "ax1.set_xlabel('Run Number')\n",
    "ax1.set_ylabel('Temperature (°C)')\n",
    "ax1.legend()\n",
    "ax1.grid(True, alpha=0.3)\n",
    "\n",
    "# Yield vs Temperature scatter\n",
    "ax2.scatter(temperatures, yields, c='blue', s=100, alpha=0.7)\n",
    "ax2.set_title('Yield vs Temperature', fontweight='bold')\n",
    "ax2.set_xlabel('Temperature (°C)')\n",
    "ax2.set_ylabel('Yield (%)')\n",
    "ax2.grid(True, alpha=0.3)\n",
    "\n",
    "# Yield distribution\n",
    "ax3.hist(yields, bins=5, alpha=0.7, color='skyblue', edgecolor='black')\n",
    "ax3.set_title('Yield Distribution', fontweight='bold')\n",
    "ax3.set_xlabel('Yield (%)')\n",
    "ax3.set_ylabel('Frequency')\n",
    "ax3.grid(True, alpha=0.3)\n",
    "\n",
    "# Box plot by process step\n",
    "process_data.boxplot(column='yield_pct', by='process_step', ax=ax4)\n",
    "ax4.set_title('Yield by Process Step', fontweight='bold')\n",
    "ax4.set_xlabel('Process Step')\n",
    "ax4.set_ylabel('Yield (%)')\n",
    "\n",
    "plt.tight_layout()\n",
    "plt.show()"
   ]
  },
  {
   "cell_type": "markdown",
   "id": "f21cb17e",
   "metadata": {},
   "source": [
    "## 🔍 Advanced Wafer Analysis Functions"
   ]
  },
  {
   "cell_type": "code",
   "execution_count": null,
   "id": "ba45a761",
   "metadata": {},
   "outputs": [],
   "source": [
    "def analyze_wafer_patterns(wafer_map):\n",
    "    \"\"\"\n",
    "    Analyze patterns in wafer map data.\n",
    "    \n",
    "    Parameters:\n",
    "    wafer_map (numpy.ndarray): 2D array of pass/fail data\n",
    "    \n",
    "    Returns:\n",
    "    dict: Analysis results\n",
    "    \"\"\"\n",
    "    results = {}\n",
    "    \n",
    "    # Basic statistics\n",
    "    total_die = wafer_map.size\n",
    "    good_die = np.sum(wafer_map)\n",
    "    results['total_die'] = total_die\n",
    "    results['good_die'] = good_die\n",
    "    results['yield_pct'] = (good_die / total_die) * 100\n",
    "    \n",
    "    # Edge vs center analysis\n",
    "    center = wafer_map.shape[0] // 2\n",
    "    edge_width = 5\n",
    "    \n",
    "    # Center region\n",
    "    center_region = wafer_map[center-10:center+10, center-10:center+10]\n",
    "    results['center_yield'] = np.mean(center_region) * 100\n",
    "    \n",
    "    # Edge region\n",
    "    edge_mask = np.zeros_like(wafer_map, dtype=bool)\n",
    "    edge_mask[:edge_width, :] = True\n",
    "    edge_mask[-edge_width:, :] = True\n",
    "    edge_mask[:, :edge_width] = True\n",
    "    edge_mask[:, -edge_width:] = True\n",
    "    \n",
    "    results['edge_yield'] = np.mean(wafer_map[edge_mask]) * 100\n",
    "    \n",
    "    # Quadrant analysis\n",
    "    h, w = wafer_map.shape\n",
    "    q1 = wafer_map[:h//2, :w//2]  # Top-left\n",
    "    q2 = wafer_map[:h//2, w//2:]  # Top-right\n",
    "    q3 = wafer_map[h//2:, :w//2]  # Bottom-left\n",
    "    q4 = wafer_map[h//2:, w//2:]  # Bottom-right\n",
    "    \n",
    "    results['quadrant_yields'] = {\n",
    "        'Q1': np.mean(q1) * 100,\n",
    "        'Q2': np.mean(q2) * 100,\n",
    "        'Q3': np.mean(q3) * 100,\n",
    "        'Q4': np.mean(q4) * 100\n",
    "    }\n",
    "    \n",
    "    return results\n",
    "\n",
    "# Analyze our wafer map\n",
    "analysis = analyze_wafer_patterns(wafer_map)\n",
    "\n",
    "print(\"🔍 Wafer Analysis Results:\")\n",
    "print(f\"Overall Yield: {analysis['yield_pct']:.2f}%\")\n",
    "print(f\"Center Yield: {analysis['center_yield']:.2f}%\")\n",
    "print(f\"Edge Yield: {analysis['edge_yield']:.2f}%\")\n",
    "print(\"\\nQuadrant Yields:\")\n",
    "for quad, yield_val in analysis['quadrant_yields'].items():\n",
    "    print(f\"  {quad}: {yield_val:.2f}%\")"
   ]
  },
  {
   "cell_type": "markdown",
   "id": "8f1a8d7f",
   "metadata": {},
   "source": [
    "## 💡 Key Takeaways\n",
    "\n",
    "### Python Fundamentals for Semiconductor Engineering:\n",
    "1. **Variables and Data Types**: Essential for storing process parameters\n",
    "2. **Functions**: Create reusable analysis tools\n",
    "3. **Data Structures**: Lists and dictionaries for organizing data\n",
    "\n",
    "### NumPy for Numerical Computing:\n",
    "1. **Arrays**: Efficient storage and manipulation of numerical data\n",
    "2. **Mathematical Operations**: Statistical analysis and calculations\n",
    "3. **Broadcasting**: Vectorized operations for performance\n",
    "\n",
    "### Pandas for Data Analysis:\n",
    "1. **DataFrames**: Structured data with labels and metadata\n",
    "2. **Filtering and Grouping**: Extract insights from process data\n",
    "3. **Aggregation**: Summary statistics by categories\n",
    "\n",
    "### Visualization Best Practices:\n",
    "1. **Wafer Maps**: Use heatmaps for spatial data\n",
    "2. **Control Charts**: Monitor process parameters over time\n",
    "3. **Scatter Plots**: Explore relationships between variables\n",
    "4. **Distributions**: Understand data spread and patterns"
   ]
  },
  {
   "cell_type": "markdown",
   "id": "4170f2ca",
   "metadata": {},
   "source": [
    "## 🎯 Practice Exercises\n",
    "\n",
    "### Exercise 1: Process Parameter Analysis\n",
    "Create a function that calculates process capability indices (Cp, Cpk) for a given parameter.\n",
    "\n",
    "### Exercise 2: Wafer Map Pattern Detection\n",
    "Extend the `analyze_wafer_patterns` function to detect specific failure patterns:\n",
    "- Ring patterns\n",
    "- Cluster patterns\n",
    "- Systematic patterns\n",
    "\n",
    "### Exercise 3: Yield Prediction\n",
    "Create a simple model to predict yield based on process parameters using the data we've created.\n",
    "\n",
    "### Exercise 4: Automated Reporting\n",
    "Build a function that generates an automated wafer analysis report with:\n",
    "- Summary statistics\n",
    "- Visualizations\n",
    "- Pass/fail criteria\n",
    "- Recommendations"
   ]
  },
  {
   "cell_type": "markdown",
   "id": "c9dc6b96",
   "metadata": {},
   "source": [
    "## 🔗 Next Steps\n",
    "\n",
    "1. **Practice**: Complete the exercises above\n",
    "2. **Explore**: Try the production script `1.1-wafer-analysis.py`\n",
    "3. **Deep Dive**: Read the technical document `1.1-python-fundamentals.md`\n",
    "4. **Reference**: Keep the quick reference `1.1-python-quick-ref.md` handy\n",
    "5. **Continue**: Move to notebook `1.2-statistical-foundations.ipynb`\n",
    "\n",
    "---\n",
    "\n",
    "**Congratulations!** You've completed the first step in your machine learning journey for semiconductor engineering. You now have the Python fundamentals needed to analyze semiconductor data effectively."
   ]
  }
 ],
 "metadata": {
  "language_info": {
   "name": "python"
  }
 },
 "nbformat": 4,
 "nbformat_minor": 5
}
