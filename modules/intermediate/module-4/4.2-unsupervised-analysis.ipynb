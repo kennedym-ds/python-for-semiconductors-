{
  "cells": [
    {
      "cell_type": "markdown",
      "id": "619966bf",
      "metadata": {},
      "source": [
        "# Module 4.2 Unsupervised Learning Analysis\n",
        "\n",
        "Exploratory notebook for clustering + anomaly detection on synthetic semiconductor process feature space.\n",
        "\n",
        "Sections:\n",
        "1. Generate synthetic dataset\n",
        "2. PCA dimensionality inspection\n",
        "3. Compare clustering algorithms (KMeans, GMM, DBSCAN)\n",
        "4. Hybrid clustering + IsolationForest anomaly scoring\n",
        "5. Metrics summary & guardrail flags\n",
        "6. Next steps / observations"
      ]
    },
    {
      "cell_type": "code",
      "execution_count": null,
      "id": "2188c33f",
      "metadata": {},
      "outputs": [],
      "source": [
        "from pathlib import Path\n",
        "import pandas as pd\n",
        "import json\n",
        "\n",
        "# Local import of pipeline utilities\n",
        "from 4_2_unsupervised_pipeline import generate_synthetic_process, UnsupervisedPipeline  # type: ignore  # noqa: E402\n",
        "\n",
        "# 1. Generate synthetic dataset\n",
        "raw_df = generate_synthetic_process(n_samples=1200, n_latent=5, n_features=18)\n",
        "raw_df.head()"
      ]
    },
    {
      "cell_type": "code",
      "execution_count": null,
      "id": "c9d871fc",
      "metadata": {},
      "outputs": [],
      "source": [
        "from sklearn.preprocessing import StandardScaler\n",
        "from sklearn.decomposition import PCA\n",
        "import numpy as np\n",
        "\n",
        "feature_cols = [c for c in raw_df.columns if c.startswith('f')]\n",
        "X = raw_df[feature_cols].values\n",
        "scaler = StandardScaler()\n",
        "X_scaled = scaler.fit_transform(X)\n",
        "\n",
        "pca = PCA(n_components=0.95, random_state=42)\n",
        "X_pca = pca.fit_transform(X_scaled)\n",
        "\n",
        "explained = pca.explained_variance_ratio_\n",
        "print('PCA components retained:', pca.n_components_)\n",
        "print('Cumulative variance:', explained.cumsum())"
      ]
    },
    {
      "cell_type": "code",
      "execution_count": null,
      "id": "7e08c22d",
      "metadata": {},
      "outputs": [],
      "source": [
        "from 4_2_unsupervised_pipeline import UnsupervisedPipeline  # type: ignore  # noqa: E402\n",
        "\n",
        "models = ['kmeans','gmm','dbscan']\n",
        "results = {}\n",
        "for m in models:\n",
        "    pipe = UnsupervisedPipeline(model=m, n_clusters=6, pca_variance=0.95 if m!='dbscan' else 0.95)\n",
        "    pipe.fit(raw_df[feature_cols])\n",
        "    eval_out = pipe.evaluate(raw_df[feature_cols])\n",
        "    results[m] = eval_out['metrics']\n",
        "\n",
        "json.dumps(results, indent=2)"
      ]
    },
    {
      "cell_type": "code",
      "execution_count": null,
      "id": "d9664256",
      "metadata": {},
      "outputs": [],
      "source": [
        "hybrid = UnsupervisedPipeline(model='kmeans_iso', n_clusters=6, pca_variance=0.95)\n",
        "hybrid.fit(raw_df[feature_cols])\n",
        "clust_pred = hybrid.predict(raw_df[feature_cols])\n",
        "hybrid_eval = hybrid.evaluate(raw_df[feature_cols])\n",
        "print('Hybrid metrics:', json.dumps(hybrid_eval['metrics'], indent=2))\n",
        "print('Anomaly flags sample:', clust_pred['anomaly_flag'][:20])"
      ]
    },
    {
      "cell_type": "code",
      "execution_count": null,
      "id": "861fa7c2",
      "metadata": {},
      "outputs": [],
      "source": [
        "import pandas as pd\n",
        "summary_df = pd.DataFrame(results).T\n",
        "summary_df"
      ]
    },
    {
      "cell_type": "markdown",
      "id": "8de4c3be",
      "metadata": {},
      "source": [
        "## Observations & Next Steps\n",
        "\n",
        "- Review guardrail warnings to tune parameters.\n",
        "- Consider adding HDBSCAN for variable density in future module.\n",
        "- Track baseline cluster_size_entropy over multiple simulated runs to establish stability band.\n"
      ]
    }
  ],
  "metadata": {
    "language_info": {
      "name": "python"
    }
  },
  "nbformat": 4,
  "nbformat_minor": 5
}
