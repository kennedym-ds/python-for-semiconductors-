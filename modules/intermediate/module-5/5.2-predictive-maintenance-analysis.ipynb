{
  "cells": [
    {
      "cell_type": "markdown",
      "metadata": {},
      "source": [
        "# Module 5.2 - Predictive Maintenance Analysis for Semiconductor Equipment\n",
        "\n",
        "This notebook demonstrates predictive maintenance techniques for semiconductor manufacturing equipment using time-series sensor data and engineered features.\n",
        "\n",
        "## Learning Objectives\n",
        "- Generate synthetic semiconductor equipment sensor data with degradation patterns\n",
        "- Engineer time-window features for predictive maintenance\n",
        "- Implement classification and regression models for maintenance prediction\n",
        "- Evaluate models using manufacturing-specific metrics\n",
        "- Optimize thresholds for early warning systems\n",
        "- Understand temporal validation and data leakage prevention"
      ]
    },
    {
      "cell_type": "code",
      "execution_count": null,
      "metadata": {},
      "outputs": [],
      "source": [
        "# Standard imports\n",
        "import numpy as np\n",
        "import pandas as pd\n",
        "import matplotlib.pyplot as plt\n",
        "import seaborn as sns\n",
        "from pathlib import Path\n",
        "import warnings\n",
        "warnings.filterwarnings('ignore')\n",
        "\n",
        "# Set random seed for reproducibility\n",
        "RANDOM_SEED = 42\n",
        "np.random.seed(RANDOM_SEED)\n",
        "\n",
        "print(\"Environment setup complete!\")"
      ]
    },
    {
      "cell_type": "markdown",
      "metadata": {},
      "source": [
        "## 1. Data Generation and Understanding\n",
        "\n",
        "We'll use the pipeline script to generate synthetic semiconductor equipment data that simulates:\n",
        "- Multiple tools with different sensor configurations\n",
        "- Gradual degradation patterns leading to maintenance events\n",
        "- Realistic sensor noise and drift\n",
        "- Time-based structure for proper temporal analysis"
      ]
    },
    {
      "cell_type": "code",
      "execution_count": null,
      "metadata": {},
      "outputs": [],
      "source": [
        "# Use the pipeline script to generate and analyze data\n",
        "import subprocess\n",
        "import json\n",
        "\n",
        "# Train a model to see the data characteristics\n",
        "result = subprocess.run([\n",
        "    'python', '5.2-predictive-maintenance-pipeline.py', 'train', \n",
        "    '--model', 'logistic', '--n-estimators', '10'  # Quick training for demo\n",
        "], capture_output=True, text=True)\n",
        "\n",
        "if result.returncode == 0:\n",
        "    output = json.loads(result.stdout)\n",
        "    print(f\"Dataset characteristics:\")\n",
        "    print(f\"  Samples: {output['n_samples']:,}\")\n",
        "    print(f\"  Features: {output['n_features']}\")\n",
        "    print(f\"  Model: {output['model']}\")\n",
        "    print(f\"  Task: {output['task']}\")\n",
        "    print(f\"  ROC AUC: {output['metrics']['roc_auc']:.3f}\")\n",
        "    print(f\"  PR AUC: {output['metrics']['pr_auc']:.3f}\")\n",
        "    print(f\"  PWS: {output['metrics']['pws']:.3f}\")\n",
        "else:\n",
        "    print(f\"Error: {result.stderr}\")"
      ]
    },
    {
      "cell_type": "markdown",
      "metadata": {},
      "source": [
        "## 2. Model Comparison\n",
        "\n",
        "Let's compare different models for predictive maintenance."
      ]
    },
    {
      "cell_type": "code",
      "execution_count": null,
      "metadata": {},
      "outputs": [],
      "source": [
        "# Compare different models\n",
        "models = ['logistic', 'rf', 'xgboost']\n",
        "results = {}\n",
        "\n",
        "for model in models:\n",
        "    try:\n",
        "        result = subprocess.run([\n",
        "            'python', '5.2-predictive-maintenance-pipeline.py', 'train',\n",
        "            '--model', model, '--n-estimators', '50'\n",
        "        ], capture_output=True, text=True, timeout=120)\n",
        "        \n",
        "        if result.returncode == 0:\n",
        "            output = json.loads(result.stdout)\n",
        "            results[model] = output['metrics']\n",
        "            print(f\"{model.upper():>10}: ROC AUC={output['metrics']['roc_auc']:.3f}, PWS={output['metrics']['pws']:.3f}\")\n",
        "        else:\n",
        "            print(f\"{model.upper():>10}: Error - {result.stderr[:100]}\")\n",
        "    except subprocess.TimeoutExpired:\n",
        "        print(f\"{model.upper():>10}: Timeout\")\n",
        "    except Exception as e:\n",
        "        print(f\"{model.upper():>10}: Exception - {str(e)}\")"
      ]
    },
    {
      "cell_type": "markdown",
      "metadata": {},
      "source": [
        "## 3. Regression Analysis (Time-to-Event)\n",
        "\n",
        "Now let's look at regression models for predicting time until maintenance."
      ]
    },
    {
      "cell_type": "code",
      "execution_count": null,
      "metadata": {},
      "outputs": [],
      "source": [
        "# Train regression model\n",
        "result = subprocess.run([\n",
        "    'python', '5.2-predictive-maintenance-pipeline.py', 'train',\n",
        "    '--task', 'regression', '--target', 'time_to_event',\n",
        "    '--model', 'rf', '--n-estimators', '50'\n",
        "], capture_output=True, text=True)\n",
        "\n",
        "if result.returncode == 0:\n",
        "    output = json.loads(result.stdout)\n",
        "    print(f\"Regression Model Performance:\")\n",
        "    print(f\"  MAE: {output['metrics']['mae']:.2f} hours\")\n",
        "    print(f\"  RMSE: {output['metrics']['rmse']:.2f} hours\")\n",
        "    print(f\"  R\u00b2: {output['metrics']['r2']:.3f}\")\n",
        "    print(f\"  PWS (\u00b124h): {output['metrics']['pws']:.3f}\")\n",
        "    print(f\"  Estimated Loss: {output['metrics']['estimated_loss']:.2f}\")\n",
        "else:\n",
        "    print(f\"Error: {result.stderr}\")"
      ]
    },
    {
      "cell_type": "markdown",
      "metadata": {},
      "source": [
        "## 4. Model Persistence and Evaluation\n",
        "\n",
        "Let's train a model, save it, and then evaluate it to demonstrate the full pipeline."
      ]
    },
    {
      "cell_type": "code",
      "execution_count": null,
      "metadata": {},
      "outputs": [],
      "source": [
        "import tempfile\n",
        "import os\n",
        "\n",
        "# Create temporary file for model\n",
        "with tempfile.NamedTemporaryFile(suffix='.joblib', delete=False) as tmp_file:\n",
        "    model_path = tmp_file.name\n",
        "\n",
        "try:\n",
        "    # Train and save model\n",
        "    result = subprocess.run([\n",
        "        'python', '5.2-predictive-maintenance-pipeline.py', 'train',\n",
        "        '--model', 'rf', '--n-estimators', '50',\n",
        "        '--save', model_path\n",
        "    ], capture_output=True, text=True)\n",
        "    \n",
        "    if result.returncode == 0:\n",
        "        print(\"Model trained and saved successfully!\")\n",
        "        \n",
        "        # Evaluate the saved model\n",
        "        eval_result = subprocess.run([\n",
        "            'python', '5.2-predictive-maintenance-pipeline.py', 'evaluate',\n",
        "            '--model-path', model_path\n",
        "        ], capture_output=True, text=True)\n",
        "        \n",
        "        if eval_result.returncode == 0:\n",
        "            eval_output = json.loads(eval_result.stdout)\n",
        "            print(\"\\nModel evaluation:\")\n",
        "            print(f\"  ROC AUC: {eval_output['metrics']['roc_auc']:.3f}\")\n",
        "            print(f\"  PR AUC: {eval_output['metrics']['pr_auc']:.3f}\")\n",
        "            print(f\"  PWS: {eval_output['metrics']['pws']:.3f}\")\n",
        "        else:\n",
        "            print(f\"Evaluation error: {eval_result.stderr}\")\n",
        "    else:\n",
        "        print(f\"Training error: {result.stderr}\")\n",
        "        \n",
        "finally:\n",
        "    # Clean up\n",
        "    if os.path.exists(model_path):\n",
        "        os.unlink(model_path)"
      ]
    },
    {
      "cell_type": "markdown",
      "metadata": {},
      "source": [
        "## 5. Key Insights and Recommendations\n",
        "\n",
        "Based on the analysis above, here are the key insights:\n",
        "\n",
        "1. **Feature Engineering**: Time-window features (rolling statistics, EWMA, lag features) are crucial for capturing degradation patterns\n",
        "\n",
        "2. **Model Performance**: Tree-based models (Random Forest, XGBoost) generally perform better than linear models for this type of time series prediction\n",
        "\n",
        "3. **Manufacturing Metrics**: PWS (Prediction Within Spec) and Estimated Loss provide business-relevant performance measures beyond standard ML metrics\n",
        "\n",
        "4. **Temporal Validation**: Proper time-based splitting with embargo periods is essential to prevent data leakage\n",
        "\n",
        "5. **Class Imbalance**: Maintenance events are rare, requiring careful handling through class weights or resampling\n",
        "\n",
        "## Next Steps\n",
        "\n",
        "For production deployment:\n",
        "- Implement real-time feature computation\n",
        "- Set up model monitoring and retraining pipelines\n",
        "- Integrate with manufacturing execution systems (MES)\n",
        "- Establish alert thresholds based on business costs\n",
        "- Validate on real equipment data"
      ]
    }
  ],
  "metadata": {
    "kernelspec": {
      "display_name": "Python 3",
      "language": "python",
      "name": "python3"
    },
    "language_info": {
      "codemirror_mode": {
        "name": "ipython",
        "version": 3
      },
      "file_extension": ".py",
      "mimetype": "text/x-python",
      "name": "python",
      "nbconvert_exporter": "python",
      "pygments_lexer": "ipython3",
      "version": "3.8.5"
    }
  },
  "nbformat": 4,
  "nbformat_minor": 4
}
